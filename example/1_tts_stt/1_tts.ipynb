{
 "cells": [
  {
   "cell_type": "code",
   "execution_count": 4,
   "metadata": {},
   "outputs": [
    {
     "name": "stdout",
     "output_type": "stream",
     "text": [
      "pygame 2.5.2 (SDL 2.28.2, Python 3.10.13)\n",
      "Hello from the pygame community. https://www.pygame.org/contribute.html\n"
     ]
    }
   ],
   "source": [
    "from gtts import gTTS\n",
    "import pygame\n",
    "\n",
    "def play_audio(file_path):\n",
    "    pygame.mixer.init()\n",
    "    pygame.mixer.music.load(file_path)\n",
    "    pygame.mixer.music.play()\n",
    "\n",
    "msg = \"안녕하세요 tts 실습중입니다, 요새 날씨가 춥네요\"\n",
    "tts = gTTS(text=msg, lang=\"ko\")\n",
    "speech_file_path = \"./speech.mp3\"\n",
    "tts.save(speech_file_path)"
   ]
  },
  {
   "cell_type": "code",
   "execution_count": 2,
   "metadata": {},
   "outputs": [],
   "source": [
    "play_audio(speech_file_path)"
   ]
  },
  {
   "cell_type": "code",
   "execution_count": 2,
   "metadata": {},
   "outputs": [],
   "source": [
    "import os\n",
    "from openai import OpenAI\n",
    "from dotenv import load_dotenv\n",
    "load_dotenv()\n",
    "open_api_key = os.getenv(\"TEST_KEY\")\n",
    "client = OpenAI(api_key=open_api_key)\n",
    "\n",
    "speech_file_path_whisper = \"./speech_whisper.mp3\"\n",
    "msg = \"안녕하세요 whisper 테스트 중입니다, 요새 날씨가 춥네요\"\n",
    "\n",
    "response  = client.audio.speech.create(\n",
    "  model=\"tts-1\",\n",
    "  voice=\"alloy\", # 종류 선택 기능\n",
    "  input=msg\n",
    ")\n",
    "response.stream_to_file(speech_file_path_whisper)"
   ]
  },
  {
   "cell_type": "code",
   "execution_count": 6,
   "metadata": {},
   "outputs": [],
   "source": [
    "play_audio(speech_file_path_whisper)"
   ]
  },
  {
   "cell_type": "code",
   "execution_count": null,
   "metadata": {},
   "outputs": [],
   "source": []
  }
 ],
 "metadata": {
  "kernelspec": {
   "display_name": "chat_gradio",
   "language": "python",
   "name": "python3"
  },
  "language_info": {
   "codemirror_mode": {
    "name": "ipython",
    "version": 3
   },
   "file_extension": ".py",
   "mimetype": "text/x-python",
   "name": "python",
   "nbconvert_exporter": "python",
   "pygments_lexer": "ipython3",
   "version": "3.10.13"
  }
 },
 "nbformat": 4,
 "nbformat_minor": 2
}
