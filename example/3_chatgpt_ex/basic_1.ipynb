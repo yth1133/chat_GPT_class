{
 "cells": [
  {
   "cell_type": "code",
   "execution_count": 3,
   "metadata": {},
   "outputs": [],
   "source": [
    "from openai import OpenAI\n",
    "import os\n",
    "from dotenv import load_dotenv\n",
    "load_dotenv()\n",
    "\n",
    "# .env 파일에 API 키가 저장되어 있는 경우 가져오기\n",
    "# open_api_key = os.getenv(\"OPEN_API_KEY\")\n",
    "open_api_key = os.getenv(\"TEST_KEY\")\n",
    "\n",
    "# 만약 .env 파일에 API 키가 없는 경우 사용자에게 입력 받기 또는 다른 방법으로 획득하기\n",
    "if open_api_key is None:\n",
    "    open_api_key = input(\"API 키를 입력하세요: \")\n",
    "\n",
    "\n",
    "# .env 파일에 API 키 저장하기\n",
    "with open(\".env\", \"w\") as env_file:\n",
    "    env_file.write(f\"OPEN_API_KEY={open_api_key}\\n\")\n",
    "\n",
    "#open_api_key 변수에는 API 키가 저장 확인\n",
    "\n",
    "client = OpenAI(api_key=open_api_key)\n",
    "\n",
    "# 기본익히기\n",
    "response = client.chat.completions.create(\n",
    "    model = \"gpt-3.5-turbo\", # 사용할 모델명 입력\n",
    "    messages=[\n",
    "        {\"role\": \"system\", \"content\": \"당신은 챗봇 상담원입니다\"},\n",
    "        {\"role\": \"user\", \"content\": \"안녕하세요 요새 날씨가 춥네요\"},\n",
    "    ]\n",
    ")"
   ]
  },
  {
   "cell_type": "code",
   "execution_count": 4,
   "metadata": {},
   "outputs": [
    {
     "name": "stdout",
     "output_type": "stream",
     "text": [
      "안녕하세요! 네, 현재 날씨는 한국을 기준으로 추워지고 있는 시기입니다. 겨울철인 만큼 외출할 때는 따뜻하게 옷을 입고 실내에서도 따뜻한 온도를 유지하시는 것을 추천드립니다. 겨울철에는 감기나 독감에 걸릴 확률이 높아지니, 건강 유의하시기 바랍니다. 필요한 경우, 온도 변화나 체온 조절에 따라 적절한 의약품을 복용하셔도 좋습니다. 그 외에도 날씨와 관련된 어떤 질문이든지 알려주시면 도움을 드릴게요!\n"
     ]
    }
   ],
   "source": [
    "print(response.choices[0].message.content)"
   ]
  },
  {
   "cell_type": "code",
   "execution_count": null,
   "metadata": {},
   "outputs": [],
   "source": []
  }
 ],
 "metadata": {
  "kernelspec": {
   "display_name": "chat_gradio",
   "language": "python",
   "name": "python3"
  },
  "language_info": {
   "codemirror_mode": {
    "name": "ipython",
    "version": 3
   },
   "file_extension": ".py",
   "mimetype": "text/x-python",
   "name": "python",
   "nbconvert_exporter": "python",
   "pygments_lexer": "ipython3",
   "version": "3.10.13"
  }
 },
 "nbformat": 4,
 "nbformat_minor": 2
}
